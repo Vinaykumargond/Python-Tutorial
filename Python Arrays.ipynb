{
 "cells": [
  {
   "cell_type": "markdown",
   "metadata": {},
   "source": [
    "# Arrays"
   ]
  },
  {
   "cell_type": "markdown",
   "metadata": {},
   "source": [
    "Arrays are used to store multiple values in one single variable:"
   ]
  },
  {
   "cell_type": "raw",
   "metadata": {},
   "source": [
    "Create an array containing car names:"
   ]
  },
  {
   "cell_type": "code",
   "execution_count": 2,
   "metadata": {},
   "outputs": [
    {
     "name": "stdout",
     "output_type": "stream",
     "text": [
      "['Ford', 'Volvo', 'BMW']\n"
     ]
    }
   ],
   "source": [
    "cars = [\"Ford\", \"Volvo\", \"BMW\"]\n",
    "print(cars)"
   ]
  },
  {
   "cell_type": "markdown",
   "metadata": {},
   "source": [
    "# What is an Array?"
   ]
  },
  {
   "cell_type": "markdown",
   "metadata": {},
   "source": [
    "An array is a special variable, which can hold more than one value at a time."
   ]
  },
  {
   "cell_type": "markdown",
   "metadata": {},
   "source": [
    "If you have a list of items (a list of car names, for example), storing the cars in single variables could look like this:"
   ]
  },
  {
   "cell_type": "raw",
   "metadata": {},
   "source": [
    "car1 = \"Ford\"\n",
    "car2 = \"Volvo\"\n",
    "car3 = \"BMW\""
   ]
  },
  {
   "cell_type": "markdown",
   "metadata": {},
   "source": [
    "However, what if you want to loop through the cars and find a specific one? And what if you had not 3 cars, but 300?"
   ]
  },
  {
   "cell_type": "raw",
   "metadata": {},
   "source": [
    "The solution is an array!"
   ]
  },
  {
   "cell_type": "markdown",
   "metadata": {},
   "source": [
    "An array can hold many values under a single name, and you can access the values by referring to an index number."
   ]
  },
  {
   "cell_type": "markdown",
   "metadata": {},
   "source": [
    "# Access the Elements of an Array"
   ]
  },
  {
   "cell_type": "markdown",
   "metadata": {},
   "source": [
    "You refer to an array element by referring to the index number."
   ]
  },
  {
   "cell_type": "raw",
   "metadata": {},
   "source": [
    "Get the value of the first array item:"
   ]
  },
  {
   "cell_type": "code",
   "execution_count": 3,
   "metadata": {},
   "outputs": [
    {
     "name": "stdout",
     "output_type": "stream",
     "text": [
      "Ford\n"
     ]
    }
   ],
   "source": [
    "cars = [\"Ford\", \"Volvo\", \"BMW\"]\n",
    "\n",
    "x = cars[0]\n",
    "\n",
    "print(x)"
   ]
  },
  {
   "cell_type": "raw",
   "metadata": {},
   "source": [
    "Modify the value of the first array item:"
   ]
  },
  {
   "cell_type": "code",
   "execution_count": 4,
   "metadata": {},
   "outputs": [
    {
     "name": "stdout",
     "output_type": "stream",
     "text": [
      "['Toyota', 'Volvo', 'BMW']\n"
     ]
    }
   ],
   "source": [
    "cars = [\"Ford\", \"Volvo\", \"BMW\"]\n",
    "\n",
    "cars[0] = \"Toyota\"\n",
    "\n",
    "print(cars)"
   ]
  },
  {
   "cell_type": "markdown",
   "metadata": {},
   "source": [
    "# The Length of an Array"
   ]
  },
  {
   "cell_type": "raw",
   "metadata": {},
   "source": [
    "Use the len() method to return the length of an array (the number of elements in an array)."
   ]
  },
  {
   "cell_type": "raw",
   "metadata": {},
   "source": [
    "Return the number of elements in the cars array:"
   ]
  },
  {
   "cell_type": "code",
   "execution_count": 5,
   "metadata": {},
   "outputs": [
    {
     "name": "stdout",
     "output_type": "stream",
     "text": [
      "3\n"
     ]
    }
   ],
   "source": [
    "cars = [\"Ford\", \"Volvo\", \"BMW\"]\n",
    "\n",
    "x = len(cars)\n",
    "\n",
    "print(x)"
   ]
  },
  {
   "cell_type": "raw",
   "metadata": {},
   "source": [
    "Note: The length of an array is always one more than the highest array index."
   ]
  },
  {
   "cell_type": "markdown",
   "metadata": {},
   "source": [
    "# Looping Array Elements"
   ]
  },
  {
   "cell_type": "raw",
   "metadata": {},
   "source": [
    "You can use the for in loop to loop through all the elements of an array."
   ]
  },
  {
   "cell_type": "raw",
   "metadata": {},
   "source": [
    "Print each item in the cars array:"
   ]
  },
  {
   "cell_type": "code",
   "execution_count": 6,
   "metadata": {},
   "outputs": [
    {
     "name": "stdout",
     "output_type": "stream",
     "text": [
      "Ford\n",
      "Volvo\n",
      "BMW\n"
     ]
    }
   ],
   "source": [
    "cars = [\"Ford\", \"Volvo\", \"BMW\"]\n",
    "\n",
    "for x in cars:\n",
    "  print(x)"
   ]
  },
  {
   "cell_type": "markdown",
   "metadata": {},
   "source": [
    "# Adding Array Elements"
   ]
  },
  {
   "cell_type": "markdown",
   "metadata": {},
   "source": [
    "You can use the append() method to add an element to an array."
   ]
  },
  {
   "cell_type": "raw",
   "metadata": {},
   "source": [
    "Add one more element to the cars array:"
   ]
  },
  {
   "cell_type": "code",
   "execution_count": 7,
   "metadata": {},
   "outputs": [
    {
     "name": "stdout",
     "output_type": "stream",
     "text": [
      "['Ford', 'Volvo', 'BMW', 'Honda']\n"
     ]
    }
   ],
   "source": [
    "cars = [\"Ford\", \"Volvo\", \"BMW\"]\n",
    "\n",
    "cars.append(\"Honda\")\n",
    "\n",
    "print(cars)"
   ]
  },
  {
   "cell_type": "markdown",
   "metadata": {},
   "source": [
    "# Removing Array Elements"
   ]
  },
  {
   "cell_type": "markdown",
   "metadata": {},
   "source": [
    "You can use the pop() method to remove an element from the array."
   ]
  },
  {
   "cell_type": "raw",
   "metadata": {},
   "source": [
    "Delete the second element of the cars array:"
   ]
  },
  {
   "cell_type": "code",
   "execution_count": 8,
   "metadata": {},
   "outputs": [
    {
     "name": "stdout",
     "output_type": "stream",
     "text": [
      "['Ford', 'BMW']\n"
     ]
    }
   ],
   "source": [
    "cars = [\"Ford\", \"Volvo\", \"BMW\"]\n",
    "\n",
    "cars.pop(1)\n",
    "\n",
    "print(cars)"
   ]
  },
  {
   "cell_type": "markdown",
   "metadata": {},
   "source": [
    "You can also use the remove() method to remove an element from the array."
   ]
  },
  {
   "cell_type": "raw",
   "metadata": {},
   "source": [
    "Delete the element that has the value \"Volvo\":"
   ]
  },
  {
   "cell_type": "code",
   "execution_count": 9,
   "metadata": {},
   "outputs": [
    {
     "name": "stdout",
     "output_type": "stream",
     "text": [
      "['Ford', 'BMW']\n"
     ]
    }
   ],
   "source": [
    "cars = [\"Ford\", \"Volvo\", \"BMW\"]\n",
    "\n",
    "cars.remove(\"Volvo\")\n",
    "\n",
    "print(cars)"
   ]
  },
  {
   "cell_type": "raw",
   "metadata": {},
   "source": [
    "NOTE: The list's remove() method only removes the first occurrence of the specified value."
   ]
  },
  {
   "cell_type": "markdown",
   "metadata": {},
   "source": [
    "# Array Methods"
   ]
  },
  {
   "cell_type": "markdown",
   "metadata": {},
   "source": [
    "Python has a set of built-in methods that you can use on lists/arrays."
   ]
  },
  {
   "cell_type": "raw",
   "metadata": {},
   "source": [
    "append()\t        Adds an element at the end of the list"
   ]
  },
  {
   "cell_type": "raw",
   "metadata": {},
   "source": [
    "clear()\t            Removes all the elements from the list"
   ]
  },
  {
   "cell_type": "raw",
   "metadata": {},
   "source": [
    "copy()\t            Returns a copy of the list"
   ]
  },
  {
   "cell_type": "raw",
   "metadata": {},
   "source": [
    "count()\t            Returns the number of elements with the specified value"
   ]
  },
  {
   "cell_type": "raw",
   "metadata": {},
   "source": [
    "extend()\t        Add the elements of a list (or any iterable), to the end of                     the current list"
   ]
  },
  {
   "cell_type": "raw",
   "metadata": {},
   "source": [
    "index()\t            Returns the index of the first element with the specified                       value"
   ]
  },
  {
   "cell_type": "raw",
   "metadata": {},
   "source": [
    "insert()\t        Adds an element at the specified position"
   ]
  },
  {
   "cell_type": "raw",
   "metadata": {},
   "source": [
    "pop()\t            Removes the element at the specified position"
   ]
  },
  {
   "cell_type": "raw",
   "metadata": {},
   "source": [
    "remove()\t        Removes the first item with the specified value"
   ]
  },
  {
   "cell_type": "raw",
   "metadata": {},
   "source": [
    "reverse()\t        Reverses the order of the list"
   ]
  },
  {
   "cell_type": "raw",
   "metadata": {},
   "source": [
    "sort()\t            Sorts the list"
   ]
  }
 ],
 "metadata": {
  "kernelspec": {
   "display_name": "Python 3",
   "language": "python",
   "name": "python3"
  },
  "language_info": {
   "codemirror_mode": {
    "name": "ipython",
    "version": 3
   },
   "file_extension": ".py",
   "mimetype": "text/x-python",
   "name": "python",
   "nbconvert_exporter": "python",
   "pygments_lexer": "ipython3",
   "version": "3.7.6"
  }
 },
 "nbformat": 4,
 "nbformat_minor": 4
}
