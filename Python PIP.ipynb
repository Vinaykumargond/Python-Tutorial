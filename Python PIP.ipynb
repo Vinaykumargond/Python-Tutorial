{
 "cells": [
  {
   "cell_type": "markdown",
   "metadata": {},
   "source": [
    "# What is PIP?"
   ]
  },
  {
   "cell_type": "raw",
   "metadata": {},
   "source": [
    "PIP is a package manager for Python packages, or modules if you like."
   ]
  },
  {
   "cell_type": "raw",
   "metadata": {},
   "source": [
    "NOTE: If you have Python version 3.4 or later, PIP is included by default."
   ]
  },
  {
   "cell_type": "markdown",
   "metadata": {},
   "source": [
    "# What is a Package?"
   ]
  },
  {
   "cell_type": "raw",
   "metadata": {},
   "source": [
    "A package contains all the files you need for a module."
   ]
  },
  {
   "cell_type": "raw",
   "metadata": {},
   "source": [
    "Modules are Python code libraries you can include in your project."
   ]
  },
  {
   "cell_type": "markdown",
   "metadata": {},
   "source": [
    "# Install PIP"
   ]
  },
  {
   "cell_type": "markdown",
   "metadata": {},
   "source": [
    "If you do not have PIP installed, you can download and install it from this page: https://pypi.org/project/pip/"
   ]
  },
  {
   "cell_type": "markdown",
   "metadata": {},
   "source": [
    "# Download a Package"
   ]
  },
  {
   "cell_type": "markdown",
   "metadata": {},
   "source": [
    "Downloading a package is very easy.\n",
    "\n",
    "Open the command line interface and tell PIP to download the package you want.\n",
    "\n",
    "Navigate your command line to the location of Python's script directory, and type the following:"
   ]
  },
  {
   "cell_type": "markdown",
   "metadata": {},
   "source": [
    "# Using a Package"
   ]
  },
  {
   "cell_type": "raw",
   "metadata": {},
   "source": [
    "Once the package is installed, it is ready to use."
   ]
  },
  {
   "cell_type": "markdown",
   "metadata": {},
   "source": []
  },
  {
   "cell_type": "code",
   "execution_count": 4,
   "metadata": {},
   "outputs": [
    {
     "name": "stdout",
     "output_type": "stream",
     "text": [
      "[]\n"
     ]
    }
   ],
   "source": [
    "import re\n",
    "\n",
    "txt = \"The rain in Spain\"\n",
    "x = re.findall(\"Portugal\", txt)\n",
    "print(x)"
   ]
  }
 ],
 "metadata": {
  "kernelspec": {
   "display_name": "Python 3",
   "language": "python",
   "name": "python3"
  },
  "language_info": {
   "codemirror_mode": {
    "name": "ipython",
    "version": 3
   },
   "file_extension": ".py",
   "mimetype": "text/x-python",
   "name": "python",
   "nbconvert_exporter": "python",
   "pygments_lexer": "ipython3",
   "version": "3.7.6"
  }
 },
 "nbformat": 4,
 "nbformat_minor": 4
}
