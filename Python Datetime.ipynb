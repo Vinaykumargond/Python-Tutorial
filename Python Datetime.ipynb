{
 "cells": [
  {
   "cell_type": "markdown",
   "metadata": {},
   "source": [
    "# Python Datetime"
   ]
  },
  {
   "cell_type": "raw",
   "metadata": {},
   "source": [
    "A date in Python is not a data type of its own, but we can import a module named datetime to work with dates as date objects."
   ]
  },
  {
   "cell_type": "raw",
   "metadata": {},
   "source": [
    "Import the datetime module and display the current date:"
   ]
  },
  {
   "cell_type": "code",
   "execution_count": 1,
   "metadata": {},
   "outputs": [
    {
     "name": "stdout",
     "output_type": "stream",
     "text": [
      "2020-04-29 16:12:59.718376\n"
     ]
    }
   ],
   "source": [
    "import datetime\n",
    "\n",
    "x = datetime.datetime.now()\n",
    "print(x)"
   ]
  },
  {
   "cell_type": "markdown",
   "metadata": {},
   "source": [
    "# Date Output"
   ]
  },
  {
   "cell_type": "raw",
   "metadata": {},
   "source": [
    "When we execute the code from the example above the result will be:"
   ]
  },
  {
   "cell_type": "raw",
   "metadata": {},
   "source": [
    "2020-04-29 16:12:08.017875"
   ]
  },
  {
   "cell_type": "raw",
   "metadata": {},
   "source": [
    "The date contains year, month, day, hour, minute, second, and microsecond.\n",
    "\n",
    "The datetime module has many methods to return information about the date object.\n",
    "\n",
    "Here are a few examples, you will learn more about them later in this chapter:"
   ]
  },
  {
   "cell_type": "markdown",
   "metadata": {},
   "source": [
    "Return the year and name of weekday:"
   ]
  },
  {
   "cell_type": "code",
   "execution_count": 2,
   "metadata": {},
   "outputs": [
    {
     "name": "stdout",
     "output_type": "stream",
     "text": [
      "2020\n",
      "Wednesday\n"
     ]
    }
   ],
   "source": [
    "import datetime\n",
    "\n",
    "x = datetime.datetime.now()\n",
    "\n",
    "print(x.year)\n",
    "print(x.strftime(\"%A\"))"
   ]
  },
  {
   "cell_type": "markdown",
   "metadata": {},
   "source": [
    "# Creating Date Objects"
   ]
  },
  {
   "cell_type": "raw",
   "metadata": {},
   "source": [
    "To create a date, we can use the datetime() class (constructor) of the datetime module."
   ]
  },
  {
   "cell_type": "raw",
   "metadata": {},
   "source": [
    "The datetime() class requires three parameters to create a date: year, month, day."
   ]
  },
  {
   "cell_type": "markdown",
   "metadata": {},
   "source": [
    "Create a date object:"
   ]
  },
  {
   "cell_type": "code",
   "execution_count": 3,
   "metadata": {},
   "outputs": [
    {
     "name": "stdout",
     "output_type": "stream",
     "text": [
      "2020-05-17 00:00:00\n"
     ]
    }
   ],
   "source": [
    "import datetime\n",
    "\n",
    "x = datetime.datetime(2020, 5, 17)\n",
    "\n",
    "print(x)"
   ]
  },
  {
   "cell_type": "raw",
   "metadata": {},
   "source": [
    "The datetime() class also takes parameters for time and timezone (hour, minute, second, microsecond, tzone), but they are optional, and has a default value of 0, (None for timezone)."
   ]
  },
  {
   "cell_type": "markdown",
   "metadata": {},
   "source": [
    "# The strftime() Method"
   ]
  },
  {
   "cell_type": "raw",
   "metadata": {},
   "source": [
    "The datetime object has a method for formatting date objects into readable strings."
   ]
  },
  {
   "cell_type": "raw",
   "metadata": {},
   "source": [
    "The method is called strftime(), and takes one parameter, format, to specify the format of the returned string:"
   ]
  },
  {
   "cell_type": "markdown",
   "metadata": {},
   "source": [
    "Display the name of the month:"
   ]
  },
  {
   "cell_type": "code",
   "execution_count": 4,
   "metadata": {},
   "outputs": [
    {
     "name": "stdout",
     "output_type": "stream",
     "text": [
      "June\n"
     ]
    }
   ],
   "source": [
    "import datetime\n",
    "\n",
    "x = datetime.datetime(2018, 6, 1)\n",
    "\n",
    "print(x.strftime(\"%B\"))"
   ]
  },
  {
   "cell_type": "markdown",
   "metadata": {},
   "source": [
    "A reference of all the legal format codes:"
   ]
  },
  {
   "cell_type": "raw",
   "metadata": {},
   "source": [
    "%a        \tWeekday, short version\t                   Wed"
   ]
  },
  {
   "cell_type": "raw",
   "metadata": {},
   "source": [
    "%A\t        Weekday, full version\t                 Wednesday"
   ]
  },
  {
   "cell_type": "raw",
   "metadata": {},
   "source": [
    "%w\t        Weekday as a number 0-6, 0 is Sunday\t      3"
   ]
  },
  {
   "cell_type": "raw",
   "metadata": {},
   "source": [
    "%d\t        Day of month 01-31\t                        31"
   ]
  },
  {
   "cell_type": "raw",
   "metadata": {},
   "source": [
    "%b\t        Month name, short version\t                 Dec"
   ]
  },
  {
   "cell_type": "raw",
   "metadata": {},
   "source": [
    "%B\t        Month name, full version\t                December"
   ]
  },
  {
   "cell_type": "raw",
   "metadata": {},
   "source": [
    "%m\t        Month as a number 01-12\t                     12"
   ]
  },
  {
   "cell_type": "raw",
   "metadata": {},
   "source": [
    "%y\t        Year, short version, without century\t     18"
   ]
  },
  {
   "cell_type": "raw",
   "metadata": {},
   "source": [
    "%Y\t        Year, full version\t                         2018"
   ]
  },
  {
   "cell_type": "raw",
   "metadata": {},
   "source": [
    "%H\t        Hour 00-23\t                                  17"
   ]
  },
  {
   "cell_type": "raw",
   "metadata": {},
   "source": [
    "%I\t        Hour 00-12\t                                  05"
   ]
  },
  {
   "cell_type": "raw",
   "metadata": {},
   "source": [
    "%p\t        AM/PM\t                                      PM"
   ]
  },
  {
   "cell_type": "raw",
   "metadata": {},
   "source": [
    "%M\t        Minute 00-59                                  41"
   ]
  },
  {
   "cell_type": "raw",
   "metadata": {},
   "source": [
    "%S          Second 00-59\t                              08"
   ]
  },
  {
   "cell_type": "raw",
   "metadata": {},
   "source": [
    "%f          Microsecond 000000-999999\t                548513"
   ]
  },
  {
   "cell_type": "raw",
   "metadata": {},
   "source": [
    "%z\t        UTC offset\t                                +0100"
   ]
  },
  {
   "cell_type": "raw",
   "metadata": {},
   "source": [
    "%Z\t        Timezone\t                                 CST"
   ]
  },
  {
   "cell_type": "raw",
   "metadata": {},
   "source": [
    "%j\t        Day number of year 001-366\t                 365"
   ]
  },
  {
   "cell_type": "raw",
   "metadata": {},
   "source": [
    "%U\t       Week number of year,                          52\n",
    "           Sunday as the first day of week, 00-53   \n"
   ]
  },
  {
   "cell_type": "raw",
   "metadata": {},
   "source": [
    "%W\t      Week number of year, \n",
    "          Monday as the first day of week, 00-53\t     52"
   ]
  },
  {
   "cell_type": "raw",
   "metadata": {},
   "source": [
    "%c\t      Local version of date and time        \tMon Dec 31 17:41:00 2018"
   ]
  },
  {
   "cell_type": "raw",
   "metadata": {},
   "source": [
    "%x\t      Local version of date\t                       12/31/18"
   ]
  },
  {
   "cell_type": "raw",
   "metadata": {},
   "source": [
    "%X\t      Local version of time\t                       17:41:00"
   ]
  },
  {
   "cell_type": "raw",
   "metadata": {},
   "source": [
    "%%\t      A % character                                 \t%"
   ]
  }
 ],
 "metadata": {
  "kernelspec": {
   "display_name": "Python 3",
   "language": "python",
   "name": "python3"
  },
  "language_info": {
   "codemirror_mode": {
    "name": "ipython",
    "version": 3
   },
   "file_extension": ".py",
   "mimetype": "text/x-python",
   "name": "python",
   "nbconvert_exporter": "python",
   "pygments_lexer": "ipython3",
   "version": "3.7.6"
  }
 },
 "nbformat": 4,
 "nbformat_minor": 4
}
