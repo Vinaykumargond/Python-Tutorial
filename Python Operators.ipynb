{
 "cells": [
  {
   "cell_type": "markdown",
   "metadata": {},
   "source": [
    "# Python Operators"
   ]
  },
  {
   "cell_type": "raw",
   "metadata": {},
   "source": [
    "# Operators are used to perform operations on variables and values.\n",
    "\n",
    "Python divides the operators in the following groups:\n",
    "\n",
    "*Arithmetic operators\n",
    "*Assignment operators\n",
    "*Comparison operators\n",
    "*Logical operators\n",
    "*Identity operators\n",
    "*Membership operators\n",
    "*Bitwise operators"
   ]
  },
  {
   "cell_type": "markdown",
   "metadata": {},
   "source": [
    "# Python Arithmetic Operators"
   ]
  },
  {
   "cell_type": "markdown",
   "metadata": {},
   "source": [
    "Arithmetic operators are used with numeric values to perform common mathematical operations:"
   ]
  },
  {
   "cell_type": "raw",
   "metadata": {},
   "source": [
    "+\tAddition\t     x + y"
   ]
  },
  {
   "cell_type": "raw",
   "metadata": {},
   "source": [
    "-\tSubtraction\t     x - y"
   ]
  },
  {
   "cell_type": "raw",
   "metadata": {},
   "source": [
    "*\tMultiplication\t x * y"
   ]
  },
  {
   "cell_type": "raw",
   "metadata": {},
   "source": [
    "/\tDivision\t     x / y"
   ]
  },
  {
   "cell_type": "raw",
   "metadata": {},
   "source": [
    "%\tModulus\t         x % y"
   ]
  },
  {
   "cell_type": "raw",
   "metadata": {},
   "source": [
    "**\tExponentiation\t x ** y"
   ]
  },
  {
   "cell_type": "raw",
   "metadata": {},
   "source": [
    "//\tFloor division\tx // y"
   ]
  },
  {
   "cell_type": "markdown",
   "metadata": {},
   "source": [
    "# Python Assignment Operators"
   ]
  },
  {
   "cell_type": "markdown",
   "metadata": {},
   "source": [
    "Assignment operators are used to assign values to variables:"
   ]
  },
  {
   "cell_type": "raw",
   "metadata": {},
   "source": [
    "=\tx = 5\tx = 5"
   ]
  },
  {
   "cell_type": "raw",
   "metadata": {},
   "source": [
    "+=\tx += 3\tx = x + 3"
   ]
  },
  {
   "cell_type": "raw",
   "metadata": {},
   "source": [
    "-=\tx -= 3\tx = x - 3"
   ]
  },
  {
   "cell_type": "raw",
   "metadata": {},
   "source": [
    "*=\tx *= 3\tx = x * 3\t"
   ]
  },
  {
   "cell_type": "raw",
   "metadata": {},
   "source": [
    "/=\tx /= 3\tx = x / 3"
   ]
  },
  {
   "cell_type": "raw",
   "metadata": {},
   "source": [
    "%=\tx %= 3\tx = x % 3\t"
   ]
  },
  {
   "cell_type": "raw",
   "metadata": {},
   "source": [
    "//=\tx //= 3\tx = x // 3"
   ]
  },
  {
   "cell_type": "raw",
   "metadata": {},
   "source": [
    "**=\tx **= 3\tx = x ** 3"
   ]
  },
  {
   "cell_type": "raw",
   "metadata": {},
   "source": [
    "&=\tx &= 3\tx = x & 3"
   ]
  },
  {
   "cell_type": "raw",
   "metadata": {},
   "source": [
    "|=\tx |= 3\tx = x | 3"
   ]
  },
  {
   "cell_type": "raw",
   "metadata": {},
   "source": [
    "^=\tx ^= 3\tx = x ^ 3"
   ]
  },
  {
   "cell_type": "raw",
   "metadata": {},
   "source": [
    ">>=\tx >>= 3\tx = x >> 3"
   ]
  },
  {
   "cell_type": "raw",
   "metadata": {},
   "source": [
    "<<=\tx <<= 3\tx = x << 3"
   ]
  },
  {
   "cell_type": "markdown",
   "metadata": {},
   "source": [
    "# Python Comparison Operators"
   ]
  },
  {
   "cell_type": "markdown",
   "metadata": {},
   "source": [
    "Comparison operators are used to compare two values:"
   ]
  },
  {
   "cell_type": "raw",
   "metadata": {},
   "source": [
    "==\tEqual\tx == y"
   ]
  },
  {
   "cell_type": "raw",
   "metadata": {},
   "source": [
    "!=\tNot equal\tx != y"
   ]
  },
  {
   "cell_type": "raw",
   "metadata": {},
   "source": [
    ">\tGreater than\tx > y"
   ]
  },
  {
   "cell_type": "raw",
   "metadata": {},
   "source": [
    "<\tLess than\tx < y"
   ]
  },
  {
   "cell_type": "raw",
   "metadata": {},
   "source": [
    ">=\tGreater than or equal to\tx >= y"
   ]
  },
  {
   "cell_type": "raw",
   "metadata": {},
   "source": [
    "<=\tLess than or equal to\tx <= y"
   ]
  },
  {
   "cell_type": "markdown",
   "metadata": {},
   "source": [
    "# Python Logical Operators "
   ]
  },
  {
   "cell_type": "markdown",
   "metadata": {},
   "source": [
    "Logical operators are used to combine conditional statements:"
   ]
  },
  {
   "cell_type": "raw",
   "metadata": {},
   "source": [
    "and \tReturns True if both statements are true\tx < 5 and  x < 10\t\n"
   ]
  },
  {
   "cell_type": "raw",
   "metadata": {},
   "source": [
    "or\tReturns True if one of the statements is true\tx < 5 or x < 4"
   ]
  },
  {
   "cell_type": "raw",
   "metadata": {},
   "source": [
    "not\tReverse the result, returns False if the result is true\tnot(x < 5 and x < 10)"
   ]
  },
  {
   "cell_type": "markdown",
   "metadata": {},
   "source": [
    "# Python Identity Operators"
   ]
  },
  {
   "cell_type": "markdown",
   "metadata": {},
   "source": [
    "Identity operators are used to compare the objects, not if they are equal, but if they are actually the same object, with the same memory location:"
   ]
  },
  {
   "cell_type": "raw",
   "metadata": {},
   "source": [
    "is \tReturns True if both variables are the same object\tx is y"
   ]
  },
  {
   "cell_type": "raw",
   "metadata": {},
   "source": [
    "is not\tReturns True if both variables are not the same object\tx is not y"
   ]
  },
  {
   "cell_type": "markdown",
   "metadata": {},
   "source": [
    "# Python Membership Operators"
   ]
  },
  {
   "cell_type": "markdown",
   "metadata": {},
   "source": [
    "Membership operators are used to test if a sequence is presented in an object:"
   ]
  },
  {
   "cell_type": "raw",
   "metadata": {},
   "source": [
    "in \t   Returns True if a sequence with the specified value is present in the          object\t  \n",
    "                        x in y"
   ]
  },
  {
   "cell_type": "raw",
   "metadata": {},
   "source": [
    "not in     Returns True if a sequence with the specified value is not present              in the object\t                                                                           x not in y"
   ]
  },
  {
   "cell_type": "markdown",
   "metadata": {},
   "source": [
    "# Python Bitwise Operators"
   ]
  },
  {
   "cell_type": "markdown",
   "metadata": {},
   "source": [
    "Bitwise operators are used to compare (binary) numbers:"
   ]
  },
  {
   "cell_type": "raw",
   "metadata": {},
   "source": [
    "& \tAND\t   Sets each bit to 1 if both bits are 1"
   ]
  },
  {
   "cell_type": "raw",
   "metadata": {},
   "source": [
    "|\tOR\t   Sets each bit to 1 if one of two bits is 1"
   ]
  },
  {
   "cell_type": "raw",
   "metadata": {},
   "source": [
    "^\tXOR\t   Sets each bit to 1 if only one of two bits is 1"
   ]
  },
  {
   "cell_type": "raw",
   "metadata": {},
   "source": [
    "~ \tNOT\t   Inverts all the bits"
   ]
  },
  {
   "cell_type": "raw",
   "metadata": {},
   "source": [
    "<<\t  Zero fill left shift\t    Shift left by pushing zeros in from the right                                   and let the leftmost bits fall off"
   ]
  },
  {
   "cell_type": "raw",
   "metadata": {},
   "source": [
    ">>\t Signed right shift\t        Shift right by pushing copies of the leftmost                                   bit in from the left, and let the rightmost                                     bits fall off"
   ]
  }
 ],
 "metadata": {
  "kernelspec": {
   "display_name": "Python 3",
   "language": "python",
   "name": "python3"
  },
  "language_info": {
   "codemirror_mode": {
    "name": "ipython",
    "version": 3
   },
   "file_extension": ".py",
   "mimetype": "text/x-python",
   "name": "python",
   "nbconvert_exporter": "python",
   "pygments_lexer": "ipython3",
   "version": "3.7.6"
  }
 },
 "nbformat": 4,
 "nbformat_minor": 4
}
